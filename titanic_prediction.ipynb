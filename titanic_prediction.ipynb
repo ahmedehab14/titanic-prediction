{
 "cells": [
  {
   "cell_type": "code",
   "execution_count": 1,
   "id": "dfd36e0d",
   "metadata": {},
   "outputs": [],
   "source": [
    "import numpy as np \n",
    "import pandas as pd"
   ]
  },
  {
   "cell_type": "code",
   "execution_count": 2,
   "id": "f88edee4",
   "metadata": {},
   "outputs": [],
   "source": [
    "# import train csv\n",
    "df_train = pd.read_csv('/Users/ahmedehab/Desktop/machine learning project/titanic_prediction/Data/train.csv')\n",
    "\n",
    "# import test\n",
    "df_test = pd.read_csv('/Users/ahmedehab/Desktop/machine learning project/titanic_prediction/Data/test.csv')"
   ]
  },
  {
   "cell_type": "code",
   "execution_count": 6,
   "id": "41d6c9c2",
   "metadata": {},
   "outputs": [
    {
     "name": "stdout",
     "output_type": "stream",
     "text": [
      "(891, 12)\n",
      "(418, 11)\n"
     ]
    }
   ],
   "source": [
    "# validate imported CSVs\n",
    "print(df_train.shape)\n",
    "print(df_test.shape)\n"
   ]
  },
  {
   "cell_type": "code",
   "execution_count": null,
   "id": "70b5dd78",
   "metadata": {},
   "outputs": [],
   "source": [
    "# exploring "
   ]
  }
 ],
 "metadata": {
  "kernelspec": {
   "display_name": "base",
   "language": "python",
   "name": "python3"
  },
  "language_info": {
   "codemirror_mode": {
    "name": "ipython",
    "version": 3
   },
   "file_extension": ".py",
   "mimetype": "text/x-python",
   "name": "python",
   "nbconvert_exporter": "python",
   "pygments_lexer": "ipython3",
   "version": "3.11.5"
  }
 },
 "nbformat": 4,
 "nbformat_minor": 5
}
